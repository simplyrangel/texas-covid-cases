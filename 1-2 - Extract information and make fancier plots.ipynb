{
 "cells": [
  {
   "cell_type": "markdown",
   "metadata": {},
   "source": [
    "# Extract information and make fancier plots\n",
    "\n",
    "Now that we understand basic Pandas IO operations, and basic Python plotting functions, let's do a little flexing. \n",
    "\n",
    "**Notebook goals**:\n",
    "- Extract the max and min electrical loads per day in the Feb-2021 dataset created in module 1-1. Pandas' groupby() function provides a pretty simple way to do this. \n",
    "- Coplot the max and min February electrical loads. The two datasets will be distinguished from each other on the same plot by color and by label. \n",
    "- Plot the max and min February electrical loads as histograms to get an idea of any statistical significance the data may hold\n",
    "- Describe the max and min February electrical load dispersions using Pandas' describe()\n",
    "\n",
    "Bonus goal: use Matplotlib to export more figures into a single pdf file set. "
   ]
  },
  {
   "cell_type": "code",
   "execution_count": 1,
   "metadata": {},
   "outputs": [],
   "source": [
    "import numpy as np\n",
    "import pandas as pd\n",
    "import matplotlib.pyplot as plt\n",
    "%matplotlib notebook\n",
    "\n",
    "# update plot defaults:\n",
    "plt.rcParams.update(\n",
    "    {\"font.size\": 8, \n",
    "     \"figure.figsize\": (6,4),\n",
    "    \"lines.linewidth\": 3})"
   ]
  },
  {
   "cell_type": "code",
   "execution_count": 2,
   "metadata": {},
   "outputs": [
    {
     "data": {
      "text/html": [
       "<div>\n",
       "<style scoped>\n",
       "    .dataframe tbody tr th:only-of-type {\n",
       "        vertical-align: middle;\n",
       "    }\n",
       "\n",
       "    .dataframe tbody tr th {\n",
       "        vertical-align: top;\n",
       "    }\n",
       "\n",
       "    .dataframe thead th {\n",
       "        text-align: right;\n",
       "    }\n",
       "</style>\n",
       "<table border=\"1\" class=\"dataframe\">\n",
       "  <thead>\n",
       "    <tr style=\"text-align: right;\">\n",
       "      <th></th>\n",
       "      <th>houston_area</th>\n",
       "      <th>total</th>\n",
       "    </tr>\n",
       "    <tr>\n",
       "      <th>day_and_hour</th>\n",
       "      <th></th>\n",
       "      <th></th>\n",
       "    </tr>\n",
       "  </thead>\n",
       "  <tbody>\n",
       "    <tr>\n",
       "      <td>2021-02-01 00:00:00</td>\n",
       "      <td>9994.165132</td>\n",
       "      <td>36054.972726</td>\n",
       "    </tr>\n",
       "    <tr>\n",
       "      <td>2021-02-01 01:00:00</td>\n",
       "      <td>9917.547316</td>\n",
       "      <td>35849.824448</td>\n",
       "    </tr>\n",
       "    <tr>\n",
       "      <td>2021-02-01 02:00:00</td>\n",
       "      <td>9937.516441</td>\n",
       "      <td>36087.231405</td>\n",
       "    </tr>\n",
       "    <tr>\n",
       "      <td>2021-02-01 03:00:00</td>\n",
       "      <td>10077.935922</td>\n",
       "      <td>36801.227362</td>\n",
       "    </tr>\n",
       "    <tr>\n",
       "      <td>2021-02-01 04:00:00</td>\n",
       "      <td>10430.960088</td>\n",
       "      <td>38346.436586</td>\n",
       "    </tr>\n",
       "  </tbody>\n",
       "</table>\n",
       "</div>"
      ],
      "text/plain": [
       "                     houston_area         total\n",
       "day_and_hour                                   \n",
       "2021-02-01 00:00:00   9994.165132  36054.972726\n",
       "2021-02-01 01:00:00   9917.547316  35849.824448\n",
       "2021-02-01 02:00:00   9937.516441  36087.231405\n",
       "2021-02-01 03:00:00  10077.935922  36801.227362\n",
       "2021-02-01 04:00:00  10430.960088  38346.436586"
      ]
     },
     "execution_count": 2,
     "metadata": {},
     "output_type": "execute_result"
    }
   ],
   "source": [
    "# read processed Feb-2021 file:\n",
    "data = pd.read_excel(\n",
    "    \"data/ercot-subset-feb-2021.xlsx\",\n",
    "    index_col=[0],\n",
    "    )\n",
    "\n",
    "# display:\n",
    "data.head()"
   ]
  },
  {
   "cell_type": "code",
   "execution_count": 3,
   "metadata": {},
   "outputs": [
    {
     "data": {
      "image/png": "[encoded data removed]",
      "text/plain": [
       "<Figure size 432x288 with 1 Axes>"
      ]
     },
     "metadata": {
      "needs_background": "light"
     },
     "output_type": "display_data"
    }
   ],
   "source": [
    "# get the min and max loads per day:\n",
    "daily_max = data.groupby(data.index.day).max()\n",
    "daily_min = data.groupby(data.index.day).min()\n",
    "\n",
    "# plot:\n",
    "fig1 = plt.figure()\n",
    "plt.title(\"\"\"ERCOT Feb. 2021 electrical loads\n",
    "min and max loads per day across Texas\"\"\")\n",
    "plt.scatter(\n",
    "    daily_max.index,\n",
    "    daily_max.total,\n",
    "    color=\"red\",\n",
    "    label=\"daily max\",\n",
    "    )\n",
    "plt.scatter(\n",
    "    daily_min.index,\n",
    "    daily_min.total,\n",
    "    color=\"blue\",\n",
    "    label=\"daily min\",\n",
    "    )\n",
    "plt.xlabel(\"day of month\")\n",
    "plt.ylabel(\"Megawatts\")\n",
    "plt.legend()\n",
    "plt.grid()"
   ]
  },
  {
   "cell_type": "markdown",
   "metadata": {},
   "source": [
    "Let's look at this data in histogram format."
   ]
  },
  {
   "cell_type": "code",
   "execution_count": 4,
   "metadata": {},
   "outputs": [
    {
     "data": {
      "text/plain": [
       "<matplotlib.legend.Legend at 0x7f2574562110>"
      ]
     },
     "execution_count": 4,
     "metadata": {},
     "output_type": "execute_result"
    },
    {
     "data": {
      "image/png": "[encoded data removed]",
      "text/plain": [
       "<Figure size 432x288 with 1 Axes>"
      ]
     },
     "metadata": {
      "needs_background": "light"
     },
     "output_type": "display_data"
    },
    {
     "data": {
      "image/png": "[encoded data removed]",
      "text/plain": [
       "<Figure size 432x288 with 1 Axes>"
      ]
     },
     "metadata": {
      "needs_background": "light"
     },
     "output_type": "display_data"
    }
   ],
   "source": [
    "fig2 = plt.figure()\n",
    "plt.title(\"\"\"ERCOT Feb. 2021 electrical loads\n",
    "max loads per day\"\"\")\n",
    "plt.hist(\n",
    "    daily_max.total,\n",
    "    color=\"red\",\n",
    "    label=\"daily max loads\",\n",
    "    )\n",
    "plt.xlabel(\"Megawatts\")\n",
    "plt.ylabel(\"days\")\n",
    "plt.legend()\n",
    "\n",
    "fig3 = plt.figure()\n",
    "plt.title(\"\"\"ERCOT Feb. 2021 electrical loads\n",
    "min loads per day\"\"\")\n",
    "plt.hist(\n",
    "    daily_min.total,\n",
    "    color=\"blue\",\n",
    "    label=\"daily min loads\",\n",
    "    )\n",
    "plt.xlabel(\"Megawatts\")\n",
    "plt.ylabel(\"days\")\n",
    "plt.legend()"
   ]
  },
  {
   "cell_type": "code",
   "execution_count": 5,
   "metadata": {},
   "outputs": [],
   "source": [
    "# create pdf:\n",
    "from matplotlib.backends.backend_pdf import PdfPages\n",
    "pdf = PdfPages(\"ercot-feb-2021-plots.pdf\")\n",
    "\n",
    "# save all figures:\n",
    "for fig in [fig1, fig2, fig3]:\n",
    "    pdf.savefig(fig)\n",
    "\n",
    "# close pdf:\n",
    "pdf.close()"
   ]
  },
  {
   "cell_type": "markdown",
   "metadata": {},
   "source": [
    "Let's get the statistical measurements for this dispersion."
   ]
  },
  {
   "cell_type": "code",
   "execution_count": 6,
   "metadata": {},
   "outputs": [
    {
     "data": {
      "text/html": [
       "<div>\n",
       "<style scoped>\n",
       "    .dataframe tbody tr th:only-of-type {\n",
       "        vertical-align: middle;\n",
       "    }\n",
       "\n",
       "    .dataframe tbody tr th {\n",
       "        vertical-align: top;\n",
       "    }\n",
       "\n",
       "    .dataframe thead th {\n",
       "        text-align: right;\n",
       "    }\n",
       "</style>\n",
       "<table border=\"1\" class=\"dataframe\">\n",
       "  <thead>\n",
       "    <tr style=\"text-align: right;\">\n",
       "      <th></th>\n",
       "      <th>houston_area</th>\n",
       "      <th>total</th>\n",
       "    </tr>\n",
       "  </thead>\n",
       "  <tbody>\n",
       "    <tr>\n",
       "      <td>count</td>\n",
       "      <td>28.00</td>\n",
       "      <td>28.00</td>\n",
       "    </tr>\n",
       "    <tr>\n",
       "      <td>mean</td>\n",
       "      <td>12214.36</td>\n",
       "      <td>48598.45</td>\n",
       "    </tr>\n",
       "    <tr>\n",
       "      <td>std</td>\n",
       "      <td>1627.16</td>\n",
       "      <td>9491.44</td>\n",
       "    </tr>\n",
       "    <tr>\n",
       "      <td>min</td>\n",
       "      <td>9233.90</td>\n",
       "      <td>37378.24</td>\n",
       "    </tr>\n",
       "    <tr>\n",
       "      <td>25%</td>\n",
       "      <td>11039.28</td>\n",
       "      <td>41288.91</td>\n",
       "    </tr>\n",
       "    <tr>\n",
       "      <td>50%</td>\n",
       "      <td>12151.84</td>\n",
       "      <td>45750.99</td>\n",
       "    </tr>\n",
       "    <tr>\n",
       "      <td>75%</td>\n",
       "      <td>12881.03</td>\n",
       "      <td>54415.72</td>\n",
       "    </tr>\n",
       "    <tr>\n",
       "      <td>max</td>\n",
       "      <td>15692.09</td>\n",
       "      <td>69692.49</td>\n",
       "    </tr>\n",
       "  </tbody>\n",
       "</table>\n",
       "</div>"
      ],
      "text/plain": [
       "       houston_area     total\n",
       "count         28.00     28.00\n",
       "mean       12214.36  48598.45\n",
       "std         1627.16   9491.44\n",
       "min         9233.90  37378.24\n",
       "25%        11039.28  41288.91\n",
       "50%        12151.84  45750.99\n",
       "75%        12881.03  54415.72\n",
       "max        15692.09  69692.49"
      ]
     },
     "execution_count": 6,
     "metadata": {},
     "output_type": "execute_result"
    }
   ],
   "source": [
    "feb_max_stats = daily_max.describe()\n",
    "\n",
    "# display:\n",
    "feb_max_stats.round(2)"
   ]
  }
 ],
 "metadata": {
  "kernelspec": {
   "display_name": "Python 3",
   "language": "python",
   "name": "python3"
  },
  "language_info": {
   "codemirror_mode": {
    "name": "ipython",
    "version": 3
   },
   "file_extension": ".py",
   "mimetype": "text/x-python",
   "name": "python",
   "nbconvert_exporter": "python",
   "pygments_lexer": "ipython3",
   "version": "3.7.4"
  }
 },
 "nbformat": 4,
 "nbformat_minor": 2
}
