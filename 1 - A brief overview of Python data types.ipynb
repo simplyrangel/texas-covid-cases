{
 "cells": [
  {
   "cell_type": "markdown",
   "metadata": {},
   "source": [
    "# A brief overview of Python data types\n",
    "Useful link: https://docs.python.org/3/tutorial/datastructures.html \n",
    "A few things basic things to know about Python before we get started. Expect this to take about 10 minutes. "
   ]
  },
  {
   "cell_type": "markdown",
   "metadata": {},
   "source": [
    "# Python data structures\n",
    "There are four built-in Python data structures:\n",
    "1. Lists\n",
    "2. Tuples\n",
    "3. Dictionaries\n",
    "4. Sets\n",
    "\n",
    "Python sets are less popular, so we'll ignore sets in this course. Feel free to research sets on your own though. \n",
    "Useful link: https://www.w3schools.com/python/python_sets.asp "
   ]
  },
  {
   "cell_type": "markdown",
   "metadata": {},
   "source": [
    "## Lists\n",
    "- Simply lists of objects. \n",
    "- Can include mixed object types. \n",
    "- Can be changed (mutable). "
   ]
  },
  {
   "cell_type": "code",
   "execution_count": 6,
   "metadata": {},
   "outputs": [
    {
     "name": "stdout",
     "output_type": "stream",
     "text": [
      "[1, 2, 3, 4]\n"
     ]
    }
   ],
   "source": [
    "# numbers:\n",
    "a = [1,2,3]\n",
    "\n",
    "# strings:\n",
    "b = [\"Emerge\", \"is\", \"the\", \"best.\"]\n",
    "\n",
    "# can be added to each other:\n",
    "c = a + b\n",
    "\n",
    "# or added to:\n",
    "a.append(4)"
   ]
  },
  {
   "cell_type": "markdown",
   "metadata": {},
   "source": [
    "Access a list's elements with brackets (Python indexes elements by zero, not by 1):"
   ]
  },
  {
   "cell_type": "code",
   "execution_count": 8,
   "metadata": {},
   "outputs": [
    {
     "data": {
      "text/plain": [
       "1"
      ]
     },
     "execution_count": 8,
     "metadata": {},
     "output_type": "execute_result"
    }
   ],
   "source": [
    "a[0]"
   ]
  },
  {
   "cell_type": "markdown",
   "metadata": {},
   "source": [
    "Multiple items in a list can be accessed with the colon:"
   ]
  },
  {
   "cell_type": "code",
   "execution_count": 13,
   "metadata": {},
   "outputs": [
    {
     "data": {
      "text/plain": [
       "[1, 2]"
      ]
     },
     "execution_count": 13,
     "metadata": {},
     "output_type": "execute_result"
    }
   ],
   "source": [
    "a[:2]"
   ]
  },
  {
   "cell_type": "markdown",
   "metadata": {},
   "source": [
    "## Tuples\n",
    "- Used to store multiple values in one varible. \n",
    "- Ordered values that are immutable (unchangeable) after definition. \n",
    "- Defined by parenthesis. \n",
    "- Access elements via brackets. \n"
   ]
  },
  {
   "cell_type": "code",
   "execution_count": 11,
   "metadata": {},
   "outputs": [
    {
     "data": {
      "text/plain": [
       "3"
      ]
     },
     "execution_count": 11,
     "metadata": {},
     "output_type": "execute_result"
    }
   ],
   "source": [
    "mytuple = (1,2,3)\n",
    "mytuple[2]"
   ]
  },
  {
   "cell_type": "markdown",
   "metadata": {},
   "source": [
    "## Dictionaries\n",
    "- Store data in 'key' and 'value' pairs. \n",
    "- Keys can be any immutable type (strings, integers, tuples, etc)\n",
    "- Values can be pretty much anything. \n",
    "\n",
    "Dictionaries are defined by the curly braces { }. \n",
    "\n",
    "The main operations on a dictionary are storing a value with some key and extracting that value given the key."
   ]
  },
  {
   "cell_type": "code",
   "execution_count": 18,
   "metadata": {},
   "outputs": [
    {
     "data": {
      "text/plain": [
       "{0: 0.0,\n",
       " 1: 'This is a string.',\n",
       " 2: [1, 2, 3, 4],\n",
       " 'key': 'Enter the key to retrieve the value.'}"
      ]
     },
     "execution_count": 18,
     "metadata": {},
     "output_type": "execute_result"
    }
   ],
   "source": [
    "adict = {} #or adict=dict()\n",
    "adict[0] = 0.0\n",
    "adict[1] = \"This is a string.\"\n",
    "adict[2] = [1,2,3,4]\n",
    "adict[\"key\"] = \"Enter the key to retrieve the value.\"\n",
    "adict"
   ]
  },
  {
   "cell_type": "markdown",
   "metadata": {},
   "source": [
    "The main operations on a dictionary are storing a value with some key and extracting that value given the key."
   ]
  },
  {
   "cell_type": "code",
   "execution_count": 16,
   "metadata": {},
   "outputs": [
    {
     "data": {
      "text/plain": [
       "'This is a string.'"
      ]
     },
     "execution_count": 16,
     "metadata": {},
     "output_type": "execute_result"
    }
   ],
   "source": [
    "adict[1]"
   ]
  },
  {
   "cell_type": "code",
   "execution_count": 19,
   "metadata": {},
   "outputs": [
    {
     "data": {
      "text/plain": [
       "'Enter the key to retrieve the value.'"
      ]
     },
     "execution_count": 19,
     "metadata": {},
     "output_type": "execute_result"
    }
   ],
   "source": [
    "adict[\"key\"]"
   ]
  },
  {
   "cell_type": "markdown",
   "metadata": {},
   "source": [
    "Dictionaries can have their key and item pairs defined upon creation:"
   ]
  },
  {
   "cell_type": "code",
   "execution_count": 23,
   "metadata": {},
   "outputs": [
    {
     "data": {
      "text/plain": [
       "{0: 0.0,\n",
       " 1: 'This is a string.',\n",
       " 2: [1, 2, 3, 4],\n",
       " 'key': 'Enter the key to retrieve the value.'}"
      ]
     },
     "execution_count": 23,
     "metadata": {},
     "output_type": "execute_result"
    }
   ],
   "source": [
    "adict2 = {\n",
    "    \"time\": [0,1,2,3,4,5,6,7],\n",
    "    \"position\": [0,0,0,1,2,4,8,16],\n",
    "    \"test date\": \"Sunday, August 2, 2020\"\n",
    "}\n",
    "adict"
   ]
  },
  {
   "cell_type": "markdown",
   "metadata": {},
   "source": [
    "# Python iterators\n",
    "An iterator is an object that contains a sequence of values. \n",
    "Python shares the logical iterators with pretty much any programming language. We will go over the **for loop** for now.\n",
    "\n",
    "## For loop\n",
    "- Iterates over some type of iterable object. This is usually a **list** or a **tuple**.\n",
    "- Denoted by tabs instead of curly brackets or braces."
   ]
  },
  {
   "cell_type": "code",
   "execution_count": 24,
   "metadata": {},
   "outputs": [
    {
     "name": "stdout",
     "output_type": "stream",
     "text": [
      "1\n",
      "2\n",
      "3\n",
      "4\n"
     ]
    }
   ],
   "source": [
    "list_to_iterate = [1,2,3,4]\n",
    "for ii in list_to_iterate:\n",
    "    print(ii)"
   ]
  },
  {
   "cell_type": "markdown",
   "metadata": {},
   "source": [
    "The ability of lists to contain most Python types is powerful when used with an iterator."
   ]
  },
  {
   "cell_type": "code",
   "execution_count": 27,
   "metadata": {},
   "outputs": [
    {
     "name": "stdout",
     "output_type": "stream",
     "text": [
      "1, 2, 3\n",
      "4, 5, 6\n",
      "a, b, c\n"
     ]
    }
   ],
   "source": [
    "master_list = [\n",
    "    (1,2,3),\n",
    "    (4,5,6),\n",
    "    (\"a\", \"b\", \"c\")\n",
    "]\n",
    "for first, second, third in master_list:\n",
    "    print(\"{}, {}, {}\".format(first, second, third))"
   ]
  },
  {
   "cell_type": "code",
   "execution_count": null,
   "metadata": {},
   "outputs": [],
   "source": []
  }
 ],
 "metadata": {
  "kernelspec": {
   "display_name": "Python 3",
   "language": "python",
   "name": "python3"
  },
  "language_info": {
   "codemirror_mode": {
    "name": "ipython",
    "version": 3
   },
   "file_extension": ".py",
   "mimetype": "text/x-python",
   "name": "python",
   "nbconvert_exporter": "python",
   "pygments_lexer": "ipython3",
   "version": "3.7.4"
  }
 },
 "nbformat": 4,
 "nbformat_minor": 2
}
