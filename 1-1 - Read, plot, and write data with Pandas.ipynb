{
 "cells": [
  {
   "cell_type": "markdown",
   "metadata": {},
   "source": [
    "# Read, format, and write data with Pandas\n",
    "\n",
    "Pretty much every analysis workflow can be thought of as three steps -- read data, format it so that you can extract whatever info you need, and export that info for others or future use. We'll use ERCOT electrical grid load data to highlight how Pandas can make this workflow straightforward. \n",
    "\n",
    "**Notebook goals:**\n",
    "- Understand Pandas built-in IO functions, particularly for excel spreadsheets\n",
    "- Define a dataframe index and understand its value\n",
    "- Extract subsets of data from an existing dataframe based off user-defined criteria, and rename or format data for preference\n",
    "- Plot dataframe columns\n",
    "- Save analysis results as an excel spreadsheet\n",
    "\n",
    "https://pandas.pydata.org/pandas-docs/stable/user_guide/io.html\n"
   ]
  },
  {
   "cell_type": "code",
   "execution_count": 1,
   "metadata": {},
   "outputs": [],
   "source": [
    "import numpy as np\n",
    "import pandas as pd\n",
    "import matplotlib.pyplot as plt\n",
    "%matplotlib notebook\n",
    "\n",
    "# update plot defaults:\n",
    "plt.rcParams.update(\n",
    "    {\"font.size\": 8, \n",
    "     \"figure.figsize\": (6,4),\n",
    "    \"lines.linewidth\": 3})"
   ]
  },
  {
   "cell_type": "markdown",
   "metadata": {},
   "source": [
    "## Read tabular data\n",
    "\n",
    "Let's play around with data from our favorite Texas energy utility -- ERCOT. Plenty of tabular data is available on their website. Let's take one of their simpler spreadsheets as an example. Historical ERCOT grid loads per hour data for this and previous years is available at the link below:\n",
    "\n",
    "http://www.ercot.com/gridinfo/load/load_hist\n",
    "\n",
    "We pulled the 2021 ERCOT hourly load data and saved it to a spreadsheet. Let's read this data in with Pandas."
   ]
  },
  {
   "cell_type": "code",
   "execution_count": 2,
   "metadata": {},
   "outputs": [
    {
     "data": {
      "text/html": [
       "<div>\n",
       "<style scoped>\n",
       "    .dataframe tbody tr th:only-of-type {\n",
       "        vertical-align: middle;\n",
       "    }\n",
       "\n",
       "    .dataframe tbody tr th {\n",
       "        vertical-align: top;\n",
       "    }\n",
       "\n",
       "    .dataframe thead th {\n",
       "        text-align: right;\n",
       "    }\n",
       "</style>\n",
       "<table border=\"1\" class=\"dataframe\">\n",
       "  <thead>\n",
       "    <tr style=\"text-align: right;\">\n",
       "      <th></th>\n",
       "      <th>Hour Ending</th>\n",
       "      <th>COAST</th>\n",
       "      <th>EAST</th>\n",
       "      <th>FWEST</th>\n",
       "      <th>NORTH</th>\n",
       "      <th>NCENT</th>\n",
       "      <th>SOUTH</th>\n",
       "      <th>SCENT</th>\n",
       "      <th>WEST</th>\n",
       "      <th>ERCOT</th>\n",
       "    </tr>\n",
       "  </thead>\n",
       "  <tbody>\n",
       "    <tr>\n",
       "      <td>0</td>\n",
       "      <td>01/01/2021 01:00</td>\n",
       "      <td>11047.018793</td>\n",
       "      <td>1517.435253</td>\n",
       "      <td>3978.220628</td>\n",
       "      <td>838.352810</td>\n",
       "      <td>13575.277728</td>\n",
       "      <td>3545.093310</td>\n",
       "      <td>7778.262533</td>\n",
       "      <td>1440.188560</td>\n",
       "      <td>43719.849616</td>\n",
       "    </tr>\n",
       "    <tr>\n",
       "      <td>1</td>\n",
       "      <td>01/01/2021 02:00</td>\n",
       "      <td>10954.470339</td>\n",
       "      <td>1523.683893</td>\n",
       "      <td>3975.757045</td>\n",
       "      <td>825.123437</td>\n",
       "      <td>13340.337915</td>\n",
       "      <td>3586.547882</td>\n",
       "      <td>7693.744119</td>\n",
       "      <td>1421.385715</td>\n",
       "      <td>43321.050347</td>\n",
       "    </tr>\n",
       "    <tr>\n",
       "      <td>2</td>\n",
       "      <td>01/01/2021 03:00</td>\n",
       "      <td>10883.657240</td>\n",
       "      <td>1519.800916</td>\n",
       "      <td>3969.812081</td>\n",
       "      <td>819.551228</td>\n",
       "      <td>13311.625189</td>\n",
       "      <td>3586.124059</td>\n",
       "      <td>7566.951524</td>\n",
       "      <td>1405.544826</td>\n",
       "      <td>43063.067063</td>\n",
       "    </tr>\n",
       "    <tr>\n",
       "      <td>3</td>\n",
       "      <td>01/01/2021 04:00</td>\n",
       "      <td>10926.482445</td>\n",
       "      <td>1523.472963</td>\n",
       "      <td>3983.487761</td>\n",
       "      <td>820.612439</td>\n",
       "      <td>13356.442066</td>\n",
       "      <td>3570.592369</td>\n",
       "      <td>7506.685527</td>\n",
       "      <td>1402.283632</td>\n",
       "      <td>43090.059203</td>\n",
       "    </tr>\n",
       "    <tr>\n",
       "      <td>4</td>\n",
       "      <td>01/01/2021 05:00</td>\n",
       "      <td>11019.796399</td>\n",
       "      <td>1565.625573</td>\n",
       "      <td>3980.940744</td>\n",
       "      <td>831.607158</td>\n",
       "      <td>13528.651487</td>\n",
       "      <td>3590.902242</td>\n",
       "      <td>7563.971854</td>\n",
       "      <td>1405.094618</td>\n",
       "      <td>43486.590073</td>\n",
       "    </tr>\n",
       "  </tbody>\n",
       "</table>\n",
       "</div>"
      ],
      "text/plain": [
       "        Hour Ending         COAST         EAST        FWEST       NORTH  \\\n",
       "0  01/01/2021 01:00  11047.018793  1517.435253  3978.220628  838.352810   \n",
       "1  01/01/2021 02:00  10954.470339  1523.683893  3975.757045  825.123437   \n",
       "2  01/01/2021 03:00  10883.657240  1519.800916  3969.812081  819.551228   \n",
       "3  01/01/2021 04:00  10926.482445  1523.472963  3983.487761  820.612439   \n",
       "4  01/01/2021 05:00  11019.796399  1565.625573  3980.940744  831.607158   \n",
       "\n",
       "          NCENT        SOUTH        SCENT         WEST         ERCOT  \n",
       "0  13575.277728  3545.093310  7778.262533  1440.188560  43719.849616  \n",
       "1  13340.337915  3586.547882  7693.744119  1421.385715  43321.050347  \n",
       "2  13311.625189  3586.124059  7566.951524  1405.544826  43063.067063  \n",
       "3  13356.442066  3570.592369  7506.685527  1402.283632  43090.059203  \n",
       "4  13528.651487  3590.902242  7563.971854  1405.094618  43486.590073  "
      ]
     },
     "execution_count": 2,
     "metadata": {},
     "output_type": "execute_result"
    }
   ],
   "source": [
    "data = pd.read_excel(\"data/ercot-load-2021.xlsx\")\n",
    "\n",
    "# view the first five rows with head():\n",
    "data.head()"
   ]
  },
  {
   "cell_type": "code",
   "execution_count": 3,
   "metadata": {},
   "outputs": [
    {
     "data": {
      "text/html": [
       "<div>\n",
       "<style scoped>\n",
       "    .dataframe tbody tr th:only-of-type {\n",
       "        vertical-align: middle;\n",
       "    }\n",
       "\n",
       "    .dataframe tbody tr th {\n",
       "        vertical-align: top;\n",
       "    }\n",
       "\n",
       "    .dataframe thead th {\n",
       "        text-align: right;\n",
       "    }\n",
       "</style>\n",
       "<table border=\"1\" class=\"dataframe\">\n",
       "  <thead>\n",
       "    <tr style=\"text-align: right;\">\n",
       "      <th></th>\n",
       "      <th>Hour Ending</th>\n",
       "      <th>COAST</th>\n",
       "      <th>EAST</th>\n",
       "      <th>FWEST</th>\n",
       "      <th>NORTH</th>\n",
       "      <th>NCENT</th>\n",
       "      <th>SOUTH</th>\n",
       "      <th>SCENT</th>\n",
       "      <th>WEST</th>\n",
       "      <th>ERCOT</th>\n",
       "    </tr>\n",
       "  </thead>\n",
       "  <tbody>\n",
       "    <tr>\n",
       "      <td>0</td>\n",
       "      <td>01/01/2021 01:00</td>\n",
       "      <td>11047.02</td>\n",
       "      <td>1517.44</td>\n",
       "      <td>3978.22</td>\n",
       "      <td>838.35</td>\n",
       "      <td>13575.28</td>\n",
       "      <td>3545.09</td>\n",
       "      <td>7778.26</td>\n",
       "      <td>1440.19</td>\n",
       "      <td>43719.85</td>\n",
       "    </tr>\n",
       "    <tr>\n",
       "      <td>1</td>\n",
       "      <td>01/01/2021 02:00</td>\n",
       "      <td>10954.47</td>\n",
       "      <td>1523.68</td>\n",
       "      <td>3975.76</td>\n",
       "      <td>825.12</td>\n",
       "      <td>13340.34</td>\n",
       "      <td>3586.55</td>\n",
       "      <td>7693.74</td>\n",
       "      <td>1421.39</td>\n",
       "      <td>43321.05</td>\n",
       "    </tr>\n",
       "    <tr>\n",
       "      <td>2</td>\n",
       "      <td>01/01/2021 03:00</td>\n",
       "      <td>10883.66</td>\n",
       "      <td>1519.80</td>\n",
       "      <td>3969.81</td>\n",
       "      <td>819.55</td>\n",
       "      <td>13311.63</td>\n",
       "      <td>3586.12</td>\n",
       "      <td>7566.95</td>\n",
       "      <td>1405.54</td>\n",
       "      <td>43063.07</td>\n",
       "    </tr>\n",
       "    <tr>\n",
       "      <td>3</td>\n",
       "      <td>01/01/2021 04:00</td>\n",
       "      <td>10926.48</td>\n",
       "      <td>1523.47</td>\n",
       "      <td>3983.49</td>\n",
       "      <td>820.61</td>\n",
       "      <td>13356.44</td>\n",
       "      <td>3570.59</td>\n",
       "      <td>7506.69</td>\n",
       "      <td>1402.28</td>\n",
       "      <td>43090.06</td>\n",
       "    </tr>\n",
       "    <tr>\n",
       "      <td>4</td>\n",
       "      <td>01/01/2021 05:00</td>\n",
       "      <td>11019.80</td>\n",
       "      <td>1565.63</td>\n",
       "      <td>3980.94</td>\n",
       "      <td>831.61</td>\n",
       "      <td>13528.65</td>\n",
       "      <td>3590.90</td>\n",
       "      <td>7563.97</td>\n",
       "      <td>1405.09</td>\n",
       "      <td>43486.59</td>\n",
       "    </tr>\n",
       "  </tbody>\n",
       "</table>\n",
       "</div>"
      ],
      "text/plain": [
       "        Hour Ending     COAST     EAST    FWEST   NORTH     NCENT    SOUTH  \\\n",
       "0  01/01/2021 01:00  11047.02  1517.44  3978.22  838.35  13575.28  3545.09   \n",
       "1  01/01/2021 02:00  10954.47  1523.68  3975.76  825.12  13340.34  3586.55   \n",
       "2  01/01/2021 03:00  10883.66  1519.80  3969.81  819.55  13311.63  3586.12   \n",
       "3  01/01/2021 04:00  10926.48  1523.47  3983.49  820.61  13356.44  3570.59   \n",
       "4  01/01/2021 05:00  11019.80  1565.63  3980.94  831.61  13528.65  3590.90   \n",
       "\n",
       "     SCENT     WEST     ERCOT  \n",
       "0  7778.26  1440.19  43719.85  \n",
       "1  7693.74  1421.39  43321.05  \n",
       "2  7566.95  1405.54  43063.07  \n",
       "3  7506.69  1402.28  43090.06  \n",
       "4  7563.97  1405.09  43486.59  "
      ]
     },
     "execution_count": 3,
     "metadata": {},
     "output_type": "execute_result"
    }
   ],
   "source": [
    "# round the values to two digits:\n",
    "data.round(2).head()"
   ]
  },
  {
   "cell_type": "markdown",
   "metadata": {},
   "source": [
    "The data we read in is exactly the same as the spreadsheet. We can get an idea of its shape and what it contains pretty easily using builtin dataframe attributes."
   ]
  },
  {
   "cell_type": "code",
   "execution_count": 4,
   "metadata": {},
   "outputs": [
    {
     "data": {
      "text/plain": [
       "(1416, 10)"
      ]
     },
     "execution_count": 4,
     "metadata": {},
     "output_type": "execute_result"
    }
   ],
   "source": [
    "data.shape"
   ]
  },
  {
   "cell_type": "code",
   "execution_count": 5,
   "metadata": {},
   "outputs": [
    {
     "name": "stdout",
     "output_type": "stream",
     "text": [
      "Hour Ending\n",
      "COAST\n",
      "EAST\n",
      "FWEST\n",
      "NORTH\n",
      "NCENT\n",
      "SOUTH\n",
      "SCENT\n",
      "WEST\n",
      "ERCOT\n"
     ]
    }
   ],
   "source": [
    "for col in data.columns:\n",
    "    print(col)"
   ]
  },
  {
   "cell_type": "markdown",
   "metadata": {},
   "source": [
    "These correspond to the ERCOT weather zones, shown below. \n",
    "\n",
    "![alt text](ercot-regions.png \"ERCOT weather regions.\")"
   ]
  },
  {
   "cell_type": "markdown",
   "metadata": {},
   "source": [
    "Let's extract the data we care about:\n",
    "- Houston area electrical loads\n",
    "- total loads for the state\n",
    "\n",
    "Houston is in the \"COAST\" region, so we'll keep that column as well as the total \"ERCOT\" column. Let's then rename the columns to something that is more intuitive."
   ]
  },
  {
   "cell_type": "code",
   "execution_count": 6,
   "metadata": {},
   "outputs": [
    {
     "data": {
      "text/html": [
       "<div>\n",
       "<style scoped>\n",
       "    .dataframe tbody tr th:only-of-type {\n",
       "        vertical-align: middle;\n",
       "    }\n",
       "\n",
       "    .dataframe tbody tr th {\n",
       "        vertical-align: top;\n",
       "    }\n",
       "\n",
       "    .dataframe thead th {\n",
       "        text-align: right;\n",
       "    }\n",
       "</style>\n",
       "<table border=\"1\" class=\"dataframe\">\n",
       "  <thead>\n",
       "    <tr style=\"text-align: right;\">\n",
       "      <th></th>\n",
       "      <th>day_and_hour</th>\n",
       "      <th>houston_area</th>\n",
       "      <th>total</th>\n",
       "    </tr>\n",
       "  </thead>\n",
       "  <tbody>\n",
       "    <tr>\n",
       "      <td>0</td>\n",
       "      <td>01/01/2021 01:00</td>\n",
       "      <td>11047.018793</td>\n",
       "      <td>43719.849616</td>\n",
       "    </tr>\n",
       "    <tr>\n",
       "      <td>1</td>\n",
       "      <td>01/01/2021 02:00</td>\n",
       "      <td>10954.470339</td>\n",
       "      <td>43321.050347</td>\n",
       "    </tr>\n",
       "    <tr>\n",
       "      <td>2</td>\n",
       "      <td>01/01/2021 03:00</td>\n",
       "      <td>10883.657240</td>\n",
       "      <td>43063.067063</td>\n",
       "    </tr>\n",
       "    <tr>\n",
       "      <td>3</td>\n",
       "      <td>01/01/2021 04:00</td>\n",
       "      <td>10926.482445</td>\n",
       "      <td>43090.059203</td>\n",
       "    </tr>\n",
       "    <tr>\n",
       "      <td>4</td>\n",
       "      <td>01/01/2021 05:00</td>\n",
       "      <td>11019.796399</td>\n",
       "      <td>43486.590073</td>\n",
       "    </tr>\n",
       "  </tbody>\n",
       "</table>\n",
       "</div>"
      ],
      "text/plain": [
       "       day_and_hour  houston_area         total\n",
       "0  01/01/2021 01:00  11047.018793  43719.849616\n",
       "1  01/01/2021 02:00  10954.470339  43321.050347\n",
       "2  01/01/2021 03:00  10883.657240  43063.067063\n",
       "3  01/01/2021 04:00  10926.482445  43090.059203\n",
       "4  01/01/2021 05:00  11019.796399  43486.590073"
      ]
     },
     "execution_count": 6,
     "metadata": {},
     "output_type": "execute_result"
    }
   ],
   "source": [
    "columns_of_interest = [\n",
    "    \"Hour Ending\",\n",
    "    \"COAST\",\n",
    "    \"ERCOT\",\n",
    "    ]\n",
    "data = data.loc[:, columns_of_interest]\n",
    "\n",
    "# rename columns:\n",
    "old2new_cols = {\n",
    "    \"Hour Ending\": \"day_and_hour\",\n",
    "    \"COAST\": \"houston_area\", #includes Galvaston, etc\n",
    "    \"ERCOT\": \"total\",\n",
    "    }\n",
    "data = data.rename(columns=old2new_cols)\n",
    "data.head()"
   ]
  },
  {
   "cell_type": "markdown",
   "metadata": {},
   "source": [
    "## Plot tabular data\n",
    "\n",
    "The data we read in is exactly the same as the spreadsheet. Now, let's plot it. "
   ]
  },
  {
   "cell_type": "code",
   "execution_count": 7,
   "metadata": {},
   "outputs": [
    {
     "data": {
      "text/plain": [
       "Text(0, 0.5, 'MegaWatts')"
      ]
     },
     "execution_count": 7,
     "metadata": {},
     "output_type": "execute_result"
    },
    {
     "data": {
      "image/png": "[encoded data removed]",
      "text/plain": [
       "<Figure size 432x288 with 1 Axes>"
      ]
     },
     "metadata": {
      "needs_background": "light"
     },
     "output_type": "display_data"
    }
   ],
   "source": [
    "plt.figure()\n",
    "plt.title(\"ERCOT electrical grid load in 2021\")\n",
    "plt.plot(data.total)\n",
    "plt.xlabel(\"date (not really tho)\")\n",
    "plt.ylabel(\"MegaWatts\")"
   ]
  },
  {
   "cell_type": "markdown",
   "metadata": {},
   "source": [
    "## Write tabular data\n",
    "\n",
    "Let's extract the available February 2021 data and save it as an excel file for later use. We can do this in a variety of ways:\n",
    "- eyeball the spreadsheet and simply copy the relevant rows into a new spreadsheet. This assumes the data is in temporal order, which is not always the case. \n",
    "- iterate over each row, keep the row if that row's date column is within February, and discard the row if not. This is time consuming though, and memory intensive if the dataset grows large. \n",
    "\n",
    "Instead, we can use Pandas to easily slice out what we need. First we must do the following steps to our dataset:\n",
    "- Convert the \"Hour Ending\" column data into datetime objects\n",
    "- Make the \"Hour Ending\" column the dataset's index\n",
    "- slice out our desired time range"
   ]
  },
  {
   "cell_type": "code",
   "execution_count": 8,
   "metadata": {
    "scrolled": true
   },
   "outputs": [
    {
     "data": {
      "text/html": [
       "<div>\n",
       "<style scoped>\n",
       "    .dataframe tbody tr th:only-of-type {\n",
       "        vertical-align: middle;\n",
       "    }\n",
       "\n",
       "    .dataframe tbody tr th {\n",
       "        vertical-align: top;\n",
       "    }\n",
       "\n",
       "    .dataframe thead th {\n",
       "        text-align: right;\n",
       "    }\n",
       "</style>\n",
       "<table border=\"1\" class=\"dataframe\">\n",
       "  <thead>\n",
       "    <tr style=\"text-align: right;\">\n",
       "      <th></th>\n",
       "      <th>houston_area</th>\n",
       "      <th>total</th>\n",
       "    </tr>\n",
       "    <tr>\n",
       "      <th>day_and_hour</th>\n",
       "      <th></th>\n",
       "      <th></th>\n",
       "    </tr>\n",
       "  </thead>\n",
       "  <tbody>\n",
       "    <tr>\n",
       "      <td>2021-01-01 00:00:00</td>\n",
       "      <td>11047.02</td>\n",
       "      <td>43719.85</td>\n",
       "    </tr>\n",
       "    <tr>\n",
       "      <td>2021-01-01 01:00:00</td>\n",
       "      <td>10954.47</td>\n",
       "      <td>43321.05</td>\n",
       "    </tr>\n",
       "    <tr>\n",
       "      <td>2021-01-01 02:00:00</td>\n",
       "      <td>10883.66</td>\n",
       "      <td>43063.07</td>\n",
       "    </tr>\n",
       "    <tr>\n",
       "      <td>2021-01-01 03:00:00</td>\n",
       "      <td>10926.48</td>\n",
       "      <td>43090.06</td>\n",
       "    </tr>\n",
       "    <tr>\n",
       "      <td>2021-01-01 04:00:00</td>\n",
       "      <td>11019.80</td>\n",
       "      <td>43486.59</td>\n",
       "    </tr>\n",
       "  </tbody>\n",
       "</table>\n",
       "</div>"
      ],
      "text/plain": [
       "                     houston_area     total\n",
       "day_and_hour                               \n",
       "2021-01-01 00:00:00      11047.02  43719.85\n",
       "2021-01-01 01:00:00      10954.47  43321.05\n",
       "2021-01-01 02:00:00      10883.66  43063.07\n",
       "2021-01-01 03:00:00      10926.48  43090.06\n",
       "2021-01-01 04:00:00      11019.80  43486.59"
      ]
     },
     "execution_count": 8,
     "metadata": {},
     "output_type": "execute_result"
    }
   ],
   "source": [
    "# ERCOT delivers hours from 01-24, not 00-23; this \n",
    "# does not make any sense and goes against convention.\n",
    "# we'll have to convert the datetime strings back\n",
    "# to conventional expressions before we convert\n",
    "# to datetime objects.\n",
    "def convention(x):\n",
    "    s1 = x.split(\":\")[0][-2:]\n",
    "    s2 = int(s1) - 1\n",
    "    if s2 < 10:\n",
    "        s3 = \"0%d\" %s2\n",
    "    else:\n",
    "        s3 = \"%d\" %s2\n",
    "    date = x.split(\" \")[0]\n",
    "    return \"%s %s:00\" %(date,s3)\n",
    "\n",
    "# apply convention conversion:\n",
    "data.loc[:,\"day_and_hour\"] = data.day_and_hour.apply(convention)\n",
    "\n",
    "# now convert to datetime:\n",
    "data.loc[:,\"day_and_hour\"] = pd.to_datetime(\n",
    "    data[\"day_and_hour\"],\n",
    "    format=\"%m/%d/%Y %H:%M\"\n",
    "    )\n",
    "\n",
    "# set index as datetime:\n",
    "data = data.set_index([\"day_and_hour\"], drop=True)\n",
    "\n",
    "# display:\n",
    "data.round(2).head()"
   ]
  },
  {
   "cell_type": "markdown",
   "metadata": {},
   "source": [
    "We can now easily extract the February data:"
   ]
  },
  {
   "cell_type": "code",
   "execution_count": 9,
   "metadata": {},
   "outputs": [
    {
     "data": {
      "text/html": [
       "<div>\n",
       "<style scoped>\n",
       "    .dataframe tbody tr th:only-of-type {\n",
       "        vertical-align: middle;\n",
       "    }\n",
       "\n",
       "    .dataframe tbody tr th {\n",
       "        vertical-align: top;\n",
       "    }\n",
       "\n",
       "    .dataframe thead th {\n",
       "        text-align: right;\n",
       "    }\n",
       "</style>\n",
       "<table border=\"1\" class=\"dataframe\">\n",
       "  <thead>\n",
       "    <tr style=\"text-align: right;\">\n",
       "      <th></th>\n",
       "      <th>houston_area</th>\n",
       "      <th>total</th>\n",
       "    </tr>\n",
       "    <tr>\n",
       "      <th>day_and_hour</th>\n",
       "      <th></th>\n",
       "      <th></th>\n",
       "    </tr>\n",
       "  </thead>\n",
       "  <tbody>\n",
       "    <tr>\n",
       "      <td>2021-02-01 00:00:00</td>\n",
       "      <td>9994.17</td>\n",
       "      <td>36054.97</td>\n",
       "    </tr>\n",
       "    <tr>\n",
       "      <td>2021-02-01 01:00:00</td>\n",
       "      <td>9917.55</td>\n",
       "      <td>35849.82</td>\n",
       "    </tr>\n",
       "    <tr>\n",
       "      <td>2021-02-01 02:00:00</td>\n",
       "      <td>9937.52</td>\n",
       "      <td>36087.23</td>\n",
       "    </tr>\n",
       "    <tr>\n",
       "      <td>2021-02-01 03:00:00</td>\n",
       "      <td>10077.94</td>\n",
       "      <td>36801.23</td>\n",
       "    </tr>\n",
       "    <tr>\n",
       "      <td>2021-02-01 04:00:00</td>\n",
       "      <td>10430.96</td>\n",
       "      <td>38346.44</td>\n",
       "    </tr>\n",
       "    <tr>\n",
       "      <td>...</td>\n",
       "      <td>...</td>\n",
       "      <td>...</td>\n",
       "    </tr>\n",
       "    <tr>\n",
       "      <td>2021-02-28 19:00:00</td>\n",
       "      <td>11553.98</td>\n",
       "      <td>40323.96</td>\n",
       "    </tr>\n",
       "    <tr>\n",
       "      <td>2021-02-28 20:00:00</td>\n",
       "      <td>11356.55</td>\n",
       "      <td>39717.79</td>\n",
       "    </tr>\n",
       "    <tr>\n",
       "      <td>2021-02-28 21:00:00</td>\n",
       "      <td>10988.65</td>\n",
       "      <td>38432.48</td>\n",
       "    </tr>\n",
       "    <tr>\n",
       "      <td>2021-02-28 22:00:00</td>\n",
       "      <td>10391.09</td>\n",
       "      <td>36406.50</td>\n",
       "    </tr>\n",
       "    <tr>\n",
       "      <td>2021-02-28 23:00:00</td>\n",
       "      <td>9765.07</td>\n",
       "      <td>34218.32</td>\n",
       "    </tr>\n",
       "  </tbody>\n",
       "</table>\n",
       "<p>672 rows × 2 columns</p>\n",
       "</div>"
      ],
      "text/plain": [
       "                     houston_area     total\n",
       "day_and_hour                               \n",
       "2021-02-01 00:00:00       9994.17  36054.97\n",
       "2021-02-01 01:00:00       9917.55  35849.82\n",
       "2021-02-01 02:00:00       9937.52  36087.23\n",
       "2021-02-01 03:00:00      10077.94  36801.23\n",
       "2021-02-01 04:00:00      10430.96  38346.44\n",
       "...                           ...       ...\n",
       "2021-02-28 19:00:00      11553.98  40323.96\n",
       "2021-02-28 20:00:00      11356.55  39717.79\n",
       "2021-02-28 21:00:00      10988.65  38432.48\n",
       "2021-02-28 22:00:00      10391.09  36406.50\n",
       "2021-02-28 23:00:00       9765.07  34218.32\n",
       "\n",
       "[672 rows x 2 columns]"
      ]
     },
     "execution_count": 9,
     "metadata": {},
     "output_type": "execute_result"
    }
   ],
   "source": [
    "feb = data.loc[\"2021-02-01\":\"2021-02-28\", :]\n",
    "\n",
    "# display:\n",
    "feb.round(2)"
   ]
  },
  {
   "cell_type": "markdown",
   "metadata": {},
   "source": [
    "Now save using Pandas' builtin IO operations."
   ]
  },
  {
   "cell_type": "code",
   "execution_count": 10,
   "metadata": {},
   "outputs": [],
   "source": [
    "feb.to_excel(\"data/ercot-subset-feb-2021.xlsx\")"
   ]
  }
 ],
 "metadata": {
  "kernelspec": {
   "display_name": "Python 3",
   "language": "python",
   "name": "python3"
  },
  "language_info": {
   "codemirror_mode": {
    "name": "ipython",
    "version": 3
   },
   "file_extension": ".py",
   "mimetype": "text/x-python",
   "name": "python",
   "nbconvert_exporter": "python",
   "pygments_lexer": "ipython3",
   "version": "3.7.4"
  }
 },
 "nbformat": 4,
 "nbformat_minor": 2
}
