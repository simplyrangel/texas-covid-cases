{
 "cells": [
  {
   "cell_type": "markdown",
   "metadata": {},
   "source": [
    "# Python for data handling\n",
    "\n",
    "A short course presented by Emerge at NASA's Johnson Space Center on August 5, 2020. \n",
    "\n",
    "### Purpose and scope\n",
    "\n",
    "This short course is designed to give the audience or reader an overview of how Python's Pandas library can simplify common scientific data processing tasks. Texas COVID-19 data is used to highlight ways to read and write, perform basic scientific computing tasks, and plot numerical datasets using Python. \n",
    "\n",
    "This short course is not designed to teach Python, computer programming, or scientific computing. Individuals with some background in engineering, science, or general programming stand to benefit the most from this short course. \n",
    "\n",
    "**This short course uses COVID-19 data because it is widely available and is of great interest to the community. The COVID-19 pandemic is an ongoing crisis. The contents of this short course is educational in nature and is not meant to provide analysis for public health policy.**"
   ]
  },
  {
   "cell_type": "markdown",
   "metadata": {},
   "source": [
    "--------\n",
    "# What is Python?\n",
    "Python is an interpreted, object oriented, high-level, general purpose programming language. \n",
    "\n",
    "### Why should engineers and scientists care about Python? \n",
    "Python is very readable and very easy to learn. There are many well-documented and mature scientific computing tools that are free and open source. Python makes reading tabular data, processing it, and writing it or plotting it very easy. \n",
    "\n",
    "TLDR: \n",
    "- Python is free. \n",
    "- Python can do anything Excel can do, but better, faster, more scalable, and more readable. \n",
    "- Python can do (almost) anything Matlab can do -- but for free. \n",
    "\n",
    "### What are some drawbacks with Python? \n",
    "Python is like every tool an engineer or scientist has -- it can be as easy or as complex as you want it to be. The same basic engineering rules apply to Python like everything else:\n",
    "- The pursuit of perfection is the death of \"done\"\n",
    "\n",
    "You can dump hours of time writing the most gorgeous, scalable Python software that exists to solve whatever problem you are working. Does this make your Python code more valuable than a simple excel spreadsheet or paper-and-pencil? Sometimes yes, sometimes no. It is the user's responsibily to decide which tool in his or her toolbox will get the job done right, on time, and repeatable. "
   ]
  },
  {
   "cell_type": "markdown",
   "metadata": {},
   "source": [
    "-----------------\n",
    "# Modules and time keeping\n",
    "\n",
    "This lesson is split into modules. Each module has a specific purpose. The modules and their targeted times are listed below.\n",
    "\n",
    "- Intro: 10 minutes\n",
    "- Modules 1 through 4: 40 minutes\n",
    "- Modules 5 and 6: 25 minutes"
   ]
  },
  {
   "cell_type": "code",
   "execution_count": null,
   "metadata": {},
   "outputs": [],
   "source": []
  }
 ],
 "metadata": {
  "kernelspec": {
   "display_name": "Python 3",
   "language": "python",
   "name": "python3"
  },
  "language_info": {
   "codemirror_mode": {
    "name": "ipython",
    "version": 3
   },
   "file_extension": ".py",
   "mimetype": "text/x-python",
   "name": "python",
   "nbconvert_exporter": "python",
   "pygments_lexer": "ipython3",
   "version": "3.7.4"
  }
 },
 "nbformat": 4,
 "nbformat_minor": 2
}
