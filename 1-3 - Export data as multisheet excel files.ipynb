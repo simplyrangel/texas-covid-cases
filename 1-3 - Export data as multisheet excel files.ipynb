{
 "cells": [
  {
   "cell_type": "markdown",
   "metadata": {},
   "source": [
    "# Export data as multisheet excel files\n",
    "\n",
    "One of my favorite Pandas' IO features is the ability to create multisheet excel files from dataframes. We'll again use the Feb. 2021 electrical loads datafile created in module 1-1 for this example. \n",
    "\n",
    "**Notebook goals**:\n",
    "- Understand how to save several Pandas' dataframes as sheets in a single Excel spreadsheet with user-defined sheet names. \n",
    "\n",
    "Pandas' documentation:\n",
    "https://pandas.pydata.org/docs/reference/api/pandas.ExcelWriter.html"
   ]
  },
  {
   "cell_type": "code",
   "execution_count": 1,
   "metadata": {},
   "outputs": [],
   "source": [
    "import numpy as np\n",
    "import pandas as pd"
   ]
  },
  {
   "cell_type": "code",
   "execution_count": 3,
   "metadata": {},
   "outputs": [
    {
     "data": {
      "text/html": [
       "<div>\n",
       "<style scoped>\n",
       "    .dataframe tbody tr th:only-of-type {\n",
       "        vertical-align: middle;\n",
       "    }\n",
       "\n",
       "    .dataframe tbody tr th {\n",
       "        vertical-align: top;\n",
       "    }\n",
       "\n",
       "    .dataframe thead th {\n",
       "        text-align: right;\n",
       "    }\n",
       "</style>\n",
       "<table border=\"1\" class=\"dataframe\">\n",
       "  <thead>\n",
       "    <tr style=\"text-align: right;\">\n",
       "      <th></th>\n",
       "      <th>houston_area</th>\n",
       "      <th>total</th>\n",
       "    </tr>\n",
       "    <tr>\n",
       "      <th>day_and_hour</th>\n",
       "      <th></th>\n",
       "      <th></th>\n",
       "    </tr>\n",
       "  </thead>\n",
       "  <tbody>\n",
       "    <tr>\n",
       "      <td>2021-02-01 00:00:00</td>\n",
       "      <td>9994.165132</td>\n",
       "      <td>36054.972726</td>\n",
       "    </tr>\n",
       "    <tr>\n",
       "      <td>2021-02-01 01:00:00</td>\n",
       "      <td>9917.547316</td>\n",
       "      <td>35849.824448</td>\n",
       "    </tr>\n",
       "    <tr>\n",
       "      <td>2021-02-01 02:00:00</td>\n",
       "      <td>9937.516441</td>\n",
       "      <td>36087.231405</td>\n",
       "    </tr>\n",
       "    <tr>\n",
       "      <td>2021-02-01 03:00:00</td>\n",
       "      <td>10077.935922</td>\n",
       "      <td>36801.227362</td>\n",
       "    </tr>\n",
       "    <tr>\n",
       "      <td>2021-02-01 04:00:00</td>\n",
       "      <td>10430.960088</td>\n",
       "      <td>38346.436586</td>\n",
       "    </tr>\n",
       "  </tbody>\n",
       "</table>\n",
       "</div>"
      ],
      "text/plain": [
       "                     houston_area         total\n",
       "day_and_hour                                   \n",
       "2021-02-01 00:00:00   9994.165132  36054.972726\n",
       "2021-02-01 01:00:00   9917.547316  35849.824448\n",
       "2021-02-01 02:00:00   9937.516441  36087.231405\n",
       "2021-02-01 03:00:00  10077.935922  36801.227362\n",
       "2021-02-01 04:00:00  10430.960088  38346.436586"
      ]
     },
     "execution_count": 3,
     "metadata": {},
     "output_type": "execute_result"
    }
   ],
   "source": [
    "# read processed Feb-2021 file:\n",
    "data = pd.read_excel(\n",
    "    \"data/ercot-subset-feb-2021.xlsx\",\n",
    "    index_col=[0],\n",
    "    )\n",
    "\n",
    "# get the min and max loads per day:\n",
    "daily_max = data.groupby(data.index.day).max()\n",
    "daily_min = data.groupby(data.index.day).min()\n",
    "\n",
    "# display:\n",
    "data.head()"
   ]
  },
  {
   "cell_type": "code",
   "execution_count": 6,
   "metadata": {},
   "outputs": [
    {
     "data": {
      "text/html": [
       "<div>\n",
       "<style scoped>\n",
       "    .dataframe tbody tr th:only-of-type {\n",
       "        vertical-align: middle;\n",
       "    }\n",
       "\n",
       "    .dataframe tbody tr th {\n",
       "        vertical-align: top;\n",
       "    }\n",
       "\n",
       "    .dataframe thead th {\n",
       "        text-align: right;\n",
       "    }\n",
       "</style>\n",
       "<table border=\"1\" class=\"dataframe\">\n",
       "  <thead>\n",
       "    <tr style=\"text-align: right;\">\n",
       "      <th></th>\n",
       "      <th>houston_area</th>\n",
       "      <th>total</th>\n",
       "    </tr>\n",
       "  </thead>\n",
       "  <tbody>\n",
       "    <tr>\n",
       "      <td>count</td>\n",
       "      <td>28.00</td>\n",
       "      <td>28.00</td>\n",
       "    </tr>\n",
       "    <tr>\n",
       "      <td>mean</td>\n",
       "      <td>12214.36</td>\n",
       "      <td>48598.45</td>\n",
       "    </tr>\n",
       "    <tr>\n",
       "      <td>std</td>\n",
       "      <td>1627.16</td>\n",
       "      <td>9491.44</td>\n",
       "    </tr>\n",
       "    <tr>\n",
       "      <td>min</td>\n",
       "      <td>9233.90</td>\n",
       "      <td>37378.24</td>\n",
       "    </tr>\n",
       "    <tr>\n",
       "      <td>25%</td>\n",
       "      <td>11039.28</td>\n",
       "      <td>41288.91</td>\n",
       "    </tr>\n",
       "    <tr>\n",
       "      <td>50%</td>\n",
       "      <td>12151.84</td>\n",
       "      <td>45750.99</td>\n",
       "    </tr>\n",
       "    <tr>\n",
       "      <td>75%</td>\n",
       "      <td>12881.03</td>\n",
       "      <td>54415.72</td>\n",
       "    </tr>\n",
       "    <tr>\n",
       "      <td>max</td>\n",
       "      <td>15692.09</td>\n",
       "      <td>69692.49</td>\n",
       "    </tr>\n",
       "  </tbody>\n",
       "</table>\n",
       "</div>"
      ],
      "text/plain": [
       "       houston_area     total\n",
       "count         28.00     28.00\n",
       "mean       12214.36  48598.45\n",
       "std         1627.16   9491.44\n",
       "min         9233.90  37378.24\n",
       "25%        11039.28  41288.91\n",
       "50%        12151.84  45750.99\n",
       "75%        12881.03  54415.72\n",
       "max        15692.09  69692.49"
      ]
     },
     "execution_count": 6,
     "metadata": {},
     "output_type": "execute_result"
    }
   ],
   "source": [
    "daily_max_info = daily_max.describe()\n",
    "daily_min_info = daily_min.describe()\n",
    "\n",
    "# display:\n",
    "daily_max_info.round(2)"
   ]
  },
  {
   "cell_type": "code",
   "execution_count": 9,
   "metadata": {},
   "outputs": [],
   "source": [
    "# excel writer object allows us to create an empty spreadsheet,\n",
    "# which we can then populate with sheets of data. The sheets\n",
    "# or ordered according to the order they are saved:\n",
    "writer = pd.ExcelWriter(\"ercot-feb2021-processed-data.xlsx\")\n",
    "\n",
    "# let's first save the stat info data:\n",
    "daily_max_info.to_excel(writer, sheet_name=\"Hou and TX daily max info\")\n",
    "daily_min_info.to_excel(writer, sheet_name=\"Hou and TX daily min info\")\n",
    "\n",
    "# then save the max and min data per day:\n",
    "daily_max.to_excel(writer,sheet_name=\"Hou and TX daily maxes\")\n",
    "daily_min.to_excel(writer,sheet_name=\"Hou and TX daily mins\")\n",
    "\n",
    "# finally, let's preserve the source dataset:\n",
    "data.to_excel(writer,sheet_name=\"Hou and TX hourly\")\n",
    "\n",
    "# remember to close the writer object once finished:\n",
    "writer.close()"
   ]
  },
  {
   "cell_type": "code",
   "execution_count": null,
   "metadata": {},
   "outputs": [],
   "source": []
  }
 ],
 "metadata": {
  "kernelspec": {
   "display_name": "Python 3",
   "language": "python",
   "name": "python3"
  },
  "language_info": {
   "codemirror_mode": {
    "name": "ipython",
    "version": 3
   },
   "file_extension": ".py",
   "mimetype": "text/x-python",
   "name": "python",
   "nbconvert_exporter": "python",
   "pygments_lexer": "ipython3",
   "version": "3.7.4"
  }
 },
 "nbformat": 4,
 "nbformat_minor": 2
}
