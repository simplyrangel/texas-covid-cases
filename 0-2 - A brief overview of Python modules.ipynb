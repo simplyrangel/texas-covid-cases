{
 "cells": [
  {
   "cell_type": "markdown",
   "metadata": {},
   "source": [
    "# A brief overview of Python modules\n",
    "Think of modules like code libraries.\n",
    "\n",
    "Useful link: https://docs.python.org/3/tutorial/modules.html\n",
    "\n",
    "Modules are a way to store, manage, and sort defined objects. Think of them as a way to protect your 'namespace.'"
   ]
  },
  {
   "cell_type": "markdown",
   "metadata": {},
   "source": [
    "## Example: \n",
    "Let's define some physical constants:"
   ]
  },
  {
   "cell_type": "code",
   "execution_count": 1,
   "metadata": {},
   "outputs": [],
   "source": [
    "grav_accel_english = 32.174 #ft/s2\n",
    "grav_accel_SI = 9.80665 #m/s2\n",
    "G = 6.6743e-11 #m3/(kg*s2); https://en.wikipedia.org/wiki/Gravitational_constant"
   ]
  },
  {
   "cell_type": "markdown",
   "metadata": {},
   "source": [
    "I'd hate to have to remember and define these values every time I create a new script. So I can define them in a module. \n",
    "\n",
    "A module is a file containing Python definitions and statements.\n",
    "\n",
    "A module's definitions can be accessed using the \"import\" command.\n",
    "\n",
    "Let's look at the \"gravity\" module. "
   ]
  },
  {
   "cell_type": "code",
   "execution_count": 3,
   "metadata": {},
   "outputs": [
    {
     "data": {
      "text/plain": [
       "6.6743e-11"
      ]
     },
     "execution_count": 3,
     "metadata": {},
     "output_type": "execute_result"
    }
   ],
   "source": [
    "import gravity\n",
    "gravity.gravitational_constant"
   ]
  },
  {
   "cell_type": "markdown",
   "metadata": {},
   "source": [
    "We can also import specific parts of the gravity module as opposed to the whole thing, using the '**from**' keyword:"
   ]
  },
  {
   "cell_type": "code",
   "execution_count": null,
   "metadata": {},
   "outputs": [],
   "source": [
    "from gravity import grav_accel_english\n",
    "grav_accel_english"
   ]
  },
  {
   "cell_type": "markdown",
   "metadata": {},
   "source": [
    "We can also create aliases for modules or their objects using the '**as**' keyword:"
   ]
  },
  {
   "cell_type": "code",
   "execution_count": 5,
   "metadata": {},
   "outputs": [
    {
     "data": {
      "text/plain": [
       "6.6743e-11"
      ]
     },
     "execution_count": 5,
     "metadata": {},
     "output_type": "execute_result"
    }
   ],
   "source": [
    "from gravity import gravitational_constant as G\n",
    "G"
   ]
  }
 ],
 "metadata": {
  "kernelspec": {
   "display_name": "Python 3",
   "language": "python",
   "name": "python3"
  },
  "language_info": {
   "codemirror_mode": {
    "name": "ipython",
    "version": 3
   },
   "file_extension": ".py",
   "mimetype": "text/x-python",
   "name": "python",
   "nbconvert_exporter": "python",
   "pygments_lexer": "ipython3",
   "version": "3.7.4"
  }
 },
 "nbformat": 4,
 "nbformat_minor": 2
}
